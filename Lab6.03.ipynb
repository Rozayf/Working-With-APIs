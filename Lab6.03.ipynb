{
 "cells": [
  {
   "cell_type": "code",
   "execution_count": 1,
   "id": "25e45540",
   "metadata": {},
   "outputs": [],
   "source": [
    "import requests\n",
    "import pandas as pd\n",
    "import json\n",
    "\n"
   ]
  },
  {
   "cell_type": "markdown",
   "id": "8837f036",
   "metadata": {},
   "source": [
    "# Current Pollution Stats API"
   ]
  },
  {
   "cell_type": "code",
   "execution_count": 2,
   "id": "d848bf2c",
   "metadata": {},
   "outputs": [
    {
     "data": {
      "text/plain": [
       "<Response [200]>"
      ]
     },
     "execution_count": 2,
     "metadata": {},
     "output_type": "execute_result"
    }
   ],
   "source": [
    "\n",
    "response = requests.get('http://api.airvisual.com/v2/nearest_city?key=33668491-cb6b-4c78-bd5f-1aaf9449c850')\n",
    "response"
   ]
  },
  {
   "cell_type": "code",
   "execution_count": 3,
   "id": "4c295da4",
   "metadata": {},
   "outputs": [
    {
     "data": {
      "text/plain": [
       "{'status': 'success',\n",
       " 'data': {'city': 'Mitte',\n",
       "  'state': 'Berlin',\n",
       "  'country': 'Germany',\n",
       "  'location': {'type': 'Point', 'coordinates': [13.40489, 52.52003]},\n",
       "  'current': {'pollution': {'ts': '2023-06-13T09:00:00.000Z',\n",
       "    'aqius': 63,\n",
       "    'mainus': 'p2',\n",
       "    'aqicn': 33,\n",
       "    'maincn': 'p1'},\n",
       "   'weather': {'ts': '2023-06-13T10:00:00.000Z',\n",
       "    'tp': 23,\n",
       "    'pr': 1005,\n",
       "    'hu': 36,\n",
       "    'ws': 8.23,\n",
       "    'wd': 40,\n",
       "    'ic': '01d'}}}}"
      ]
     },
     "execution_count": 3,
     "metadata": {},
     "output_type": "execute_result"
    }
   ],
   "source": [
    "results = response.json()\n",
    "results"
   ]
  },
  {
   "cell_type": "code",
   "execution_count": 4,
   "id": "ae04cb86",
   "metadata": {},
   "outputs": [],
   "source": [
    "data = pd.DataFrame(results)"
   ]
  },
  {
   "cell_type": "code",
   "execution_count": 5,
   "id": "ce211e16",
   "metadata": {},
   "outputs": [
    {
     "data": {
      "text/html": [
       "<div>\n",
       "<style scoped>\n",
       "    .dataframe tbody tr th:only-of-type {\n",
       "        vertical-align: middle;\n",
       "    }\n",
       "\n",
       "    .dataframe tbody tr th {\n",
       "        vertical-align: top;\n",
       "    }\n",
       "\n",
       "    .dataframe thead th {\n",
       "        text-align: right;\n",
       "    }\n",
       "</style>\n",
       "<table border=\"1\" class=\"dataframe\">\n",
       "  <thead>\n",
       "    <tr style=\"text-align: right;\">\n",
       "      <th></th>\n",
       "      <th>status</th>\n",
       "      <th>data</th>\n",
       "    </tr>\n",
       "  </thead>\n",
       "  <tbody>\n",
       "    <tr>\n",
       "      <th>city</th>\n",
       "      <td>success</td>\n",
       "      <td>Mitte</td>\n",
       "    </tr>\n",
       "    <tr>\n",
       "      <th>country</th>\n",
       "      <td>success</td>\n",
       "      <td>Germany</td>\n",
       "    </tr>\n",
       "    <tr>\n",
       "      <th>current</th>\n",
       "      <td>success</td>\n",
       "      <td>{'pollution': {'ts': '2023-06-13T09:00:00.000Z...</td>\n",
       "    </tr>\n",
       "    <tr>\n",
       "      <th>location</th>\n",
       "      <td>success</td>\n",
       "      <td>{'type': 'Point', 'coordinates': [13.40489, 52...</td>\n",
       "    </tr>\n",
       "    <tr>\n",
       "      <th>state</th>\n",
       "      <td>success</td>\n",
       "      <td>Berlin</td>\n",
       "    </tr>\n",
       "  </tbody>\n",
       "</table>\n",
       "</div>"
      ],
      "text/plain": [
       "           status                                               data\n",
       "city      success                                              Mitte\n",
       "country   success                                            Germany\n",
       "current   success  {'pollution': {'ts': '2023-06-13T09:00:00.000Z...\n",
       "location  success  {'type': 'Point', 'coordinates': [13.40489, 52...\n",
       "state     success                                             Berlin"
      ]
     },
     "execution_count": 5,
     "metadata": {},
     "output_type": "execute_result"
    }
   ],
   "source": [
    "data"
   ]
  },
  {
   "cell_type": "code",
   "execution_count": 6,
   "id": "81d88547",
   "metadata": {},
   "outputs": [
    {
     "data": {
      "text/html": [
       "<div>\n",
       "<style scoped>\n",
       "    .dataframe tbody tr th:only-of-type {\n",
       "        vertical-align: middle;\n",
       "    }\n",
       "\n",
       "    .dataframe tbody tr th {\n",
       "        vertical-align: top;\n",
       "    }\n",
       "\n",
       "    .dataframe thead th {\n",
       "        text-align: right;\n",
       "    }\n",
       "</style>\n",
       "<table border=\"1\" class=\"dataframe\">\n",
       "  <thead>\n",
       "    <tr style=\"text-align: right;\">\n",
       "      <th></th>\n",
       "      <th>0</th>\n",
       "    </tr>\n",
       "  </thead>\n",
       "  <tbody>\n",
       "    <tr>\n",
       "      <th>status</th>\n",
       "      <td>success</td>\n",
       "    </tr>\n",
       "    <tr>\n",
       "      <th>data.city</th>\n",
       "      <td>Mitte</td>\n",
       "    </tr>\n",
       "    <tr>\n",
       "      <th>data.state</th>\n",
       "      <td>Berlin</td>\n",
       "    </tr>\n",
       "    <tr>\n",
       "      <th>data.country</th>\n",
       "      <td>Germany</td>\n",
       "    </tr>\n",
       "    <tr>\n",
       "      <th>data.location.type</th>\n",
       "      <td>Point</td>\n",
       "    </tr>\n",
       "    <tr>\n",
       "      <th>data.location.coordinates</th>\n",
       "      <td>[13.40489, 52.52003]</td>\n",
       "    </tr>\n",
       "    <tr>\n",
       "      <th>data.current.pollution.ts</th>\n",
       "      <td>2023-06-13T09:00:00.000Z</td>\n",
       "    </tr>\n",
       "    <tr>\n",
       "      <th>data.current.pollution.aqius</th>\n",
       "      <td>63</td>\n",
       "    </tr>\n",
       "    <tr>\n",
       "      <th>data.current.pollution.mainus</th>\n",
       "      <td>p2</td>\n",
       "    </tr>\n",
       "    <tr>\n",
       "      <th>data.current.pollution.aqicn</th>\n",
       "      <td>33</td>\n",
       "    </tr>\n",
       "    <tr>\n",
       "      <th>data.current.pollution.maincn</th>\n",
       "      <td>p1</td>\n",
       "    </tr>\n",
       "    <tr>\n",
       "      <th>data.current.weather.ts</th>\n",
       "      <td>2023-06-13T10:00:00.000Z</td>\n",
       "    </tr>\n",
       "    <tr>\n",
       "      <th>data.current.weather.tp</th>\n",
       "      <td>23</td>\n",
       "    </tr>\n",
       "    <tr>\n",
       "      <th>data.current.weather.pr</th>\n",
       "      <td>1005</td>\n",
       "    </tr>\n",
       "    <tr>\n",
       "      <th>data.current.weather.hu</th>\n",
       "      <td>36</td>\n",
       "    </tr>\n",
       "    <tr>\n",
       "      <th>data.current.weather.ws</th>\n",
       "      <td>8.23</td>\n",
       "    </tr>\n",
       "    <tr>\n",
       "      <th>data.current.weather.wd</th>\n",
       "      <td>40</td>\n",
       "    </tr>\n",
       "    <tr>\n",
       "      <th>data.current.weather.ic</th>\n",
       "      <td>01d</td>\n",
       "    </tr>\n",
       "  </tbody>\n",
       "</table>\n",
       "</div>"
      ],
      "text/plain": [
       "                                                      0\n",
       "status                                          success\n",
       "data.city                                         Mitte\n",
       "data.state                                       Berlin\n",
       "data.country                                    Germany\n",
       "data.location.type                                Point\n",
       "data.location.coordinates          [13.40489, 52.52003]\n",
       "data.current.pollution.ts      2023-06-13T09:00:00.000Z\n",
       "data.current.pollution.aqius                         63\n",
       "data.current.pollution.mainus                        p2\n",
       "data.current.pollution.aqicn                         33\n",
       "data.current.pollution.maincn                        p1\n",
       "data.current.weather.ts        2023-06-13T10:00:00.000Z\n",
       "data.current.weather.tp                              23\n",
       "data.current.weather.pr                            1005\n",
       "data.current.weather.hu                              36\n",
       "data.current.weather.ws                            8.23\n",
       "data.current.weather.wd                              40\n",
       "data.current.weather.ic                             01d"
      ]
     },
     "execution_count": 6,
     "metadata": {},
     "output_type": "execute_result"
    }
   ],
   "source": [
    "from pandas import json_normalize\n",
    "\n",
    "results = response.json()\n",
    "flattened_data = json_normalize(results)\n",
    "\n",
    "flattened_data.T"
   ]
  },
  {
   "cell_type": "code",
   "execution_count": 75,
   "id": "c9a9750b",
   "metadata": {},
   "outputs": [
    {
     "data": {
      "text/plain": [
       "<Response [200]>"
      ]
     },
     "execution_count": 75,
     "metadata": {},
     "output_type": "execute_result"
    }
   ],
   "source": [
    "\n",
    "\n",
    "\n",
    "SunRS = requests.get('https://api.sunrise-sunset.org/json?lat=36.7201600&lng=-4.4203400&date=today')\n",
    "SunRS"
   ]
  },
  {
   "cell_type": "code",
   "execution_count": 76,
   "id": "e0451353",
   "metadata": {},
   "outputs": [],
   "source": [
    "rs = SunRS.json()\n",
    "rsdata = json_normalize(rs)"
   ]
  },
  {
   "cell_type": "code",
   "execution_count": 77,
   "id": "e14e5e9e",
   "metadata": {},
   "outputs": [
    {
     "data": {
      "text/plain": [
       "Index(['status', 'results.sunrise', 'results.sunset', 'results.solar_noon',\n",
       "       'results.day_length', 'results.civil_twilight_begin',\n",
       "       'results.civil_twilight_end', 'results.nautical_twilight_begin',\n",
       "       'results.nautical_twilight_end', 'results.astronomical_twilight_begin',\n",
       "       'results.astronomical_twilight_end'],\n",
       "      dtype='object')"
      ]
     },
     "execution_count": 77,
     "metadata": {},
     "output_type": "execute_result"
    }
   ],
   "source": [
    "rsdata.columns"
   ]
  },
  {
   "cell_type": "markdown",
   "id": "c78303e8",
   "metadata": {},
   "source": [
    "# Sun rise & Sun set data for particular long&lat today "
   ]
  },
  {
   "cell_type": "code",
   "execution_count": 74,
   "id": "e1ed7840",
   "metadata": {},
   "outputs": [
    {
     "data": {
      "text/html": [
       "<div>\n",
       "<style scoped>\n",
       "    .dataframe tbody tr th:only-of-type {\n",
       "        vertical-align: middle;\n",
       "    }\n",
       "\n",
       "    .dataframe tbody tr th {\n",
       "        vertical-align: top;\n",
       "    }\n",
       "\n",
       "    .dataframe thead th {\n",
       "        text-align: right;\n",
       "    }\n",
       "</style>\n",
       "<table border=\"1\" class=\"dataframe\">\n",
       "  <thead>\n",
       "    <tr style=\"text-align: right;\">\n",
       "      <th></th>\n",
       "      <th>results.sunrise</th>\n",
       "      <th>results.sunset</th>\n",
       "      <th>results.day_length</th>\n",
       "    </tr>\n",
       "  </thead>\n",
       "  <tbody>\n",
       "    <tr>\n",
       "      <th>0</th>\n",
       "      <td>4:56:47 AM</td>\n",
       "      <td>7:38:38 PM</td>\n",
       "      <td>14:41:51</td>\n",
       "    </tr>\n",
       "  </tbody>\n",
       "</table>\n",
       "</div>"
      ],
      "text/plain": [
       "  results.sunrise results.sunset results.day_length\n",
       "0      4:56:47 AM     7:38:38 PM           14:41:51"
      ]
     },
     "execution_count": 74,
     "metadata": {},
     "output_type": "execute_result"
    }
   ],
   "source": [
    "rsdata[['results.sunrise', 'results.sunset','results.day_length']]"
   ]
  },
  {
   "cell_type": "code",
   "execution_count": null,
   "id": "6e35b55d",
   "metadata": {},
   "outputs": [],
   "source": [
    "#\"https://www.balldontlie.io/api/v1/teams\""
   ]
  },
  {
   "cell_type": "code",
   "execution_count": 79,
   "id": "9f5cda74",
   "metadata": {},
   "outputs": [
    {
     "data": {
      "text/plain": [
       "<Response [200]>"
      ]
     },
     "execution_count": 79,
     "metadata": {},
     "output_type": "execute_result"
    }
   ],
   "source": [
    "roni = requests.get('https://coronavirus.m.pipedream.net/')\n",
    "roni"
   ]
  },
  {
   "cell_type": "code",
   "execution_count": 80,
   "id": "f628f649",
   "metadata": {},
   "outputs": [],
   "source": [
    "covid = roni.json()\n",
    "roni = json_normalize(covid)"
   ]
  },
  {
   "cell_type": "code",
   "execution_count": 81,
   "id": "621db75e",
   "metadata": {},
   "outputs": [
    {
     "data": {
      "text/plain": [
       "Index(['apiSourceCode', 'rawData', 'summaryStats.global.confirmed',\n",
       "       'summaryStats.global.recovered', 'summaryStats.global.deaths',\n",
       "       'summaryStats.china.confirmed', 'summaryStats.china.recovered',\n",
       "       'summaryStats.china.deaths', 'summaryStats.nonChina.confirmed',\n",
       "       'summaryStats.nonChina.recovered', 'summaryStats.nonChina.deaths',\n",
       "       'cache.lastUpdated', 'cache.expires', 'cache.lastUpdatedTimestamp',\n",
       "       'cache.expiresTimestamp', 'dataSource.url',\n",
       "       'dataSource.lastGithubCommit', 'dataSource.publishedBy',\n",
       "       'dataSource.ref'],\n",
       "      dtype='object')"
      ]
     },
     "execution_count": 81,
     "metadata": {},
     "output_type": "execute_result"
    }
   ],
   "source": [
    "roni.columns"
   ]
  },
  {
   "cell_type": "markdown",
   "id": "4750ed08",
   "metadata": {},
   "source": [
    "# COVID stats (Global)"
   ]
  },
  {
   "cell_type": "code",
   "execution_count": 87,
   "id": "205af316",
   "metadata": {},
   "outputs": [
    {
     "data": {
      "text/html": [
       "<div>\n",
       "<style scoped>\n",
       "    .dataframe tbody tr th:only-of-type {\n",
       "        vertical-align: middle;\n",
       "    }\n",
       "\n",
       "    .dataframe tbody tr th {\n",
       "        vertical-align: top;\n",
       "    }\n",
       "\n",
       "    .dataframe thead th {\n",
       "        text-align: right;\n",
       "    }\n",
       "</style>\n",
       "<table border=\"1\" class=\"dataframe\">\n",
       "  <thead>\n",
       "    <tr style=\"text-align: right;\">\n",
       "      <th></th>\n",
       "      <th>0</th>\n",
       "    </tr>\n",
       "  </thead>\n",
       "  <tbody>\n",
       "    <tr>\n",
       "      <th>summaryStats.global.confirmed</th>\n",
       "      <td>676570149</td>\n",
       "    </tr>\n",
       "    <tr>\n",
       "      <th>summaryStats.global.recovered</th>\n",
       "      <td>None</td>\n",
       "    </tr>\n",
       "    <tr>\n",
       "      <th>summaryStats.global.deaths</th>\n",
       "      <td>6881804</td>\n",
       "    </tr>\n",
       "  </tbody>\n",
       "</table>\n",
       "</div>"
      ],
      "text/plain": [
       "                                       0\n",
       "summaryStats.global.confirmed  676570149\n",
       "summaryStats.global.recovered       None\n",
       "summaryStats.global.deaths       6881804"
      ]
     },
     "execution_count": 87,
     "metadata": {},
     "output_type": "execute_result"
    }
   ],
   "source": [
    "roni[['summaryStats.global.confirmed', 'summaryStats.global.recovered','summaryStats.global.deaths']].T"
   ]
  },
  {
   "cell_type": "code",
   "execution_count": null,
   "id": "a8404ea3",
   "metadata": {},
   "outputs": [],
   "source": []
  },
  {
   "cell_type": "code",
   "execution_count": null,
   "id": "39205f6c",
   "metadata": {},
   "outputs": [],
   "source": []
  }
 ],
 "metadata": {
  "kernelspec": {
   "display_name": "Python 3 (ipykernel)",
   "language": "python",
   "name": "python3"
  },
  "language_info": {
   "codemirror_mode": {
    "name": "ipython",
    "version": 3
   },
   "file_extension": ".py",
   "mimetype": "text/x-python",
   "name": "python",
   "nbconvert_exporter": "python",
   "pygments_lexer": "ipython3",
   "version": "3.10.9"
  }
 },
 "nbformat": 4,
 "nbformat_minor": 5
}
